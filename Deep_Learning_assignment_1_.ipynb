{
  "nbformat": 4,
  "nbformat_minor": 0,
  "metadata": {
    "colab": {
      "provenance": []
    },
    "kernelspec": {
      "name": "python3",
      "display_name": "Python 3"
    },
    "language_info": {
      "name": "python"
    }
  },
  "cells": [
    {
      "cell_type": "code",
      "execution_count": 2,
      "metadata": {
        "colab": {
          "base_uri": "https://localhost:8080/"
        },
        "id": "IRfvw2i9cCaU",
        "outputId": "45cedc8f-6d75-4b72-c12e-c1bcb611504e"
      },
      "outputs": [
        {
          "output_type": "stream",
          "name": "stdout",
          "text": [
            "Epoch 0 - Loss: 0.2656253844377818\n",
            "Epoch 1000 - Loss: 0.25052722352922147\n",
            "Epoch 2000 - Loss: 0.2504432418426345\n",
            "Epoch 3000 - Loss: 0.2503755345024164\n",
            "Epoch 4000 - Loss: 0.2503195105633955\n",
            "Epoch 5000 - Loss: 0.2502726087280806\n",
            "Epoch 6000 - Loss: 0.25023291486231\n",
            "Epoch 7000 - Loss: 0.25019897699868454\n",
            "Epoch 8000 - Loss: 0.25016967854138145\n",
            "Epoch 9000 - Loss: 0.250144149816591\n",
            "Epoch 10000 - Loss: 0.2501217053593956\n",
            "Epoch 11000 - Loss: 0.2501017987750972\n",
            "Epoch 12000 - Loss: 0.25008398979392515\n",
            "Epoch 13000 - Loss: 0.25006791991038824\n",
            "Epoch 14000 - Loss: 0.25005329414835653\n",
            "\n",
            "Predictions after training:\n",
            "[[0.50140679]\n",
            " [0.48687625]\n",
            " [0.51232741]\n",
            " [0.49762452]]\n"
          ]
        }
      ],
      "source": [
        "import numpy as np\n",
        "\n",
        "# Sigmoid Activation Function: Maps any input to a value between 0 and 1.\n",
        "def sigmoid(x):\n",
        "    return 1 / (1 + np.exp(-x))\n",
        "\n",
        "# Derivative of Sigmoid Activation Function: Used during backpropagation to calculate the gradient.\n",
        "def sigmoid_derivative(x):\n",
        "    return x * (1 - x)\n",
        "\n",
        "# Neural Network Class Definition\n",
        "class NeuralNetwork:\n",
        "    def __init__(self, input_size, hidden_size, output_size):\n",
        "        self.input_size = input_size\n",
        "        self.hidden_size = hidden_size\n",
        "        self.output_size = output_size\n",
        "\n",
        "        # Custom weights and biases initialization\n",
        "        self.weights_input_hidden = np.array([[0.2, -0.4, 0.6], [-0.1, 0.5, -0.3]])  # Input to hidden\n",
        "        self.bias_hidden = np.array([[0.2, -0.2, 0.2]])  # Hidden layer bias\n",
        "        self.weights_hidden_output = np.array([[0.7], [-0.5], [0.4]])  # Hidden to output\n",
        "        self.bias_output = np.array([[0.1]])  # Output layer bias\n",
        "\n",
        "    def forward(self, X):\n",
        "        self.input_layer = X\n",
        "        self.hidden_layer_input = np.dot(self.input_layer, self.weights_input_hidden) + self.bias_hidden\n",
        "        self.hidden_layer_output = sigmoid(self.hidden_layer_input)\n",
        "        self.output_layer_input = np.dot(self.hidden_layer_output, self.weights_hidden_output) + self.bias_output\n",
        "        self.output_layer_output = sigmoid(self.output_layer_input)\n",
        "        return self.output_layer_output\n",
        "\n",
        "    def backward(self, X, y, learning_rate):\n",
        "        error_output = y - self.output_layer_output\n",
        "        output_layer_delta = error_output * sigmoid_derivative(self.output_layer_output)\n",
        "        error_hidden = output_layer_delta.dot(self.weights_hidden_output.T)\n",
        "        hidden_layer_delta = error_hidden * sigmoid_derivative(self.hidden_layer_output)\n",
        "\n",
        "        self.weights_hidden_output += self.hidden_layer_output.T.dot(output_layer_delta) * learning_rate\n",
        "        self.bias_output += np.sum(output_layer_delta, axis=0, keepdims=True) * learning_rate\n",
        "        self.weights_input_hidden += X.T.dot(hidden_layer_delta) * learning_rate\n",
        "        self.bias_hidden += np.sum(hidden_layer_delta, axis=0, keepdims=True) * learning_rate\n",
        "\n",
        "    def train(self, X, y, epochs, learning_rate):\n",
        "        for epoch in range(epochs):\n",
        "            self.forward(X)\n",
        "            self.backward(X, y, learning_rate)\n",
        "            if epoch % 1000 == 0:\n",
        "                loss = np.mean(np.square(y - self.output_layer_output))\n",
        "                print(f\"Epoch {epoch} - Loss: {loss}\")\n",
        "\n",
        "# Main Program\n",
        "if __name__ == \"__main__\":\n",
        "    # Modified Dataset for XOR Problem\n",
        "    X = np.array([[0, 0], [0, 1], [1, 0], [1, 1]])\n",
        "    y = np.array([[0], [1], [1], [0]])  # XOR logic\n",
        "\n",
        "    # Custom neural network with 3 hidden neurons\n",
        "    nn = NeuralNetwork(input_size=2, hidden_size=3, output_size=1)\n",
        "\n",
        "    # Train for 15,000 epochs with a learning rate of 0.01 for gradual convergence\n",
        "    nn.train(X, y, epochs=15000, learning_rate=0.01)\n",
        "\n",
        "    # Predictions after training\n",
        "    print(\"\\nPredictions after training:\")\n",
        "    print(nn.forward(X))\n"
      ]
    },
    {
      "cell_type": "code",
      "source": [],
      "metadata": {
        "id": "w_TGPhKscFYt"
      },
      "execution_count": null,
      "outputs": []
    }
  ]
}